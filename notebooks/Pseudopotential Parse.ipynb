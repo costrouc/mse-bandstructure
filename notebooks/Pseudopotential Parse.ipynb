{
 "cells": [
  {
   "cell_type": "code",
   "execution_count": 1,
   "metadata": {
    "collapsed": false
   },
   "outputs": [],
   "source": [
    "import requests\n",
    "from bs4 import BeautifulSoup\n",
    "import json\n",
    "import re"
   ]
  },
  {
   "cell_type": "code",
   "execution_count": 2,
   "metadata": {
    "collapsed": true
   },
   "outputs": [],
   "source": [
    "# Takes about 20 seconds\n",
    "response = requests.get('http://www.quantum-espresso.org/pseudo-search-results/')"
   ]
  },
  {
   "cell_type": "code",
   "execution_count": 3,
   "metadata": {
    "collapsed": false
   },
   "outputs": [],
   "source": [
    "soup = BeautifulSoup(response.text, \"html5lib\")"
   ]
  },
  {
   "cell_type": "code",
   "execution_count": 8,
   "metadata": {
    "collapsed": false
   },
   "outputs": [],
   "source": [
    "pseudopotentials = soup.select('table.tablewithstyle tbody tr > td:nth-of-type(1)')[1:]\n",
    "\n",
    "functionals = {\n",
    "    'BP' : 'BP',\n",
    "    'Becke-Lee-Yang-Parr (BLYP) exch-corr ': 'BLYP',\n",
    "    'PBESOL': 'PBESOL',\n",
    "    'Perdew-Burke-Ernzerhof (PBE) exch-corr': 'PBE',\n",
    "    'Perdew-Wang 91 gradient-corrected functional ': 'PW91',\n",
    "    'Perdew-Wang LDA': 'LDA',\n",
    "    'Perdew-Zunger (LDA) exch-corr': 'LDA exch-coor',\n",
    "    'Tao-Perdew-Staroverov-Scuseria (TPSS) meta-GGA': 'meta-GGA'\n",
    "}\n",
    "\n",
    "pps = []\n",
    "for i, pseudopotential in enumerate(pseudopotentials):\n",
    "    title = pseudopotential.a.text\n",
    "    symbol = title[:title.find('.')]\n",
    "    description = pseudopotential.pre.text\n",
    "    pp_type_regex = 'Pseudopotential type: (\\w+)'\n",
    "    functional_regex = 'Functional type: (.*)'\n",
    "    pp_type = re.search(pp_type_regex, description).group(1)\n",
    "    functional = functionals[re.search(functional_regex, description).group(1)]\n",
    "    pps.append({\n",
    "        'index': i,\n",
    "        'title': title,\n",
    "        'symbol': symbol,\n",
    "        'pp_type': pp_type,\n",
    "        'link': pseudopotential.a.attrs['href'],\n",
    "        'name': pseudopotential.a.text,\n",
    "        'functional': functional,\n",
    "        'description': description,\n",
    "        'verified': description.find('Classification unverified') == -1\n",
    "    })"
   ]
  },
  {
   "cell_type": "code",
   "execution_count": 9,
   "metadata": {
    "collapsed": false
   },
   "outputs": [],
   "source": [
    "# Write pseudo potentials in json format\n",
    "filename = '../scripts/cli/espresso/data/pseudopotentials.json'\n",
    "json.dump(pps, open(filename, 'w'))"
   ]
  },
  {
   "cell_type": "code",
   "execution_count": null,
   "metadata": {
    "collapsed": false
   },
   "outputs": [],
   "source": []
  },
  {
   "cell_type": "code",
   "execution_count": null,
   "metadata": {
    "collapsed": true
   },
   "outputs": [],
   "source": []
  }
 ],
 "metadata": {
  "kernelspec": {
   "display_name": "Python 3",
   "language": "python",
   "name": "python3"
  },
  "language_info": {
   "codemirror_mode": {
    "name": "ipython",
    "version": 3
   },
   "file_extension": ".py",
   "mimetype": "text/x-python",
   "name": "python",
   "nbconvert_exporter": "python",
   "pygments_lexer": "ipython3",
   "version": "3.5.2"
  }
 },
 "nbformat": 4,
 "nbformat_minor": 2
}
